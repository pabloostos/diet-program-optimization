{
 "cells": [
  {
   "cell_type": "markdown",
   "metadata": {},
   "source": [
    "# **ASSIGNMENT 04 - OPTIMIZATION**"
   ]
  },
  {
   "cell_type": "markdown",
   "metadata": {},
   "source": [
    "## **The stigler diet program**\n",
    "\n",
    "The objective of the optimization programm is to determine how much money needs to be spend of each food at a minimum to satisfy the minimum nutrition requirement. The data consists on the list of foods or comodities along with their cost per unit and the nutrient content. \n",
    "\n",
    "--->>[Commodity, Unit, 1939 price (cents), Calories (kcal), Protein (g),\n",
    "Calcium (g), Iron (mg), Vitamin A (KIU), Vitamin B1 (mg), Vitamin B2 (mg),\n",
    "Niacin (mg), Vitamin C (mg)]\n",
    "\n",
    "In the dateset we are also provided with the minimum daily requirements for 8 of the nutrients needed. --->> [Nutrient minimums]"
   ]
  },
  {
   "cell_type": "markdown",
   "metadata": {},
   "source": [
    "This program solves the Stigler Diet Program\n",
    "The problem was studied by the first time by the Nobel laureate Stigler as a family of problem\n",
    "He didn't mean to recommed a diet but to illustrate an economics general problem.\n",
    "\n",
    "The idea is that there exist a minimum quantities of nutrients and calories that have to be met by everyday ingestion. These quantities are reflected in the table 'nutrients' in the data.py file.\n",
    "There are known quantities of all these nutrients in a set of foods as reflected in the table 'data' in the file data.py."
   ]
  },
  {
   "cell_type": "code",
   "execution_count": 32,
   "metadata": {},
   "outputs": [],
   "source": [
    "# We will use ortools to solve this problem\n",
    "# ortools have been developed by Google to solve many kinds of mathematical programming (optimization) problems\n",
    "from ortools.linear_solver import pywraplp\n",
    "from ortools.init import pywrapinit\n",
    "\n",
    "# We import the file data.py to have access to the definitions in this file\n",
    "from data import * "
   ]
  },
  {
   "cell_type": "markdown",
   "metadata": {},
   "source": [
    "# **EXERCISE 1: Understand and execute the program**"
   ]
  },
  {
   "cell_type": "markdown",
   "metadata": {},
   "source": [
    "### Our initial goal is to minimize the sum of the foods..."
   ]
  },
  {
   "cell_type": "markdown",
   "metadata": {},
   "source": [
    "First we crete the linear solver with the GLOP backend. "
   ]
  },
  {
   "cell_type": "code",
   "execution_count": 33,
   "metadata": {},
   "outputs": [],
   "source": [
    "solver = pywraplp.Solver.CreateSolver('GLOP')\n",
    "if not solver:\n",
    "    exit"
   ]
  },
  {
   "cell_type": "code",
   "execution_count": 34,
   "metadata": {},
   "outputs": [],
   "source": [
    "# Variables are defined using solver.Numvar. You can create individual variables like\n",
    "# in the commented sample below\n",
    "# Create the variables x and y.\n",
    "x = solver.NumVar(0, solver.infinity(), 'x')\n",
    "y = solver.NumVar(0, solver.infinity(), 'y')\n",
    "# The parameters of NumVar are:\n",
    "#   - minimum value\n",
    "#   - maximum value\n",
    "#   - name of variable"
   ]
  },
  {
   "cell_type": "markdown",
   "metadata": {},
   "source": [
    "# Variables"
   ]
  },
  {
   "cell_type": "markdown",
   "metadata": {},
   "source": [
    "To minimize the price we will need to declare the variables of the function, these will be the food items (commodity column of the table -->> item[0] holds the name of each food in the 'data' table)"
   ]
  },
  {
   "cell_type": "code",
   "execution_count": 35,
   "metadata": {},
   "outputs": [
    {
     "name": "stdout",
     "output_type": "stream",
     "text": [
      "[Wheat Flour (Enriched), Macaroni, Wheat Cereal (Enriched), Corn Flakes, Corn Meal, Hominy Grits, Rice, Rolled Oats, White Bread (Enriched), Whole Wheat Bread, Rye Bread, Pound Cake, Soda Crackers, Milk, Evaporated Milk (can), Butter, Oleomargarine, Eggs, Cheese (Cheddar), Cream, Peanut Butter, Mayonnaise, Crisco, Lard, Sirloin Steak, Round Steak, Rib Roast, Chuck Roast, Plate, Liver (Beef), Leg of Lamb, Lamb Chops (Rib), Pork Chops, Pork Loin Roast, Bacon, Ham, smoked, Salt Pork, Roasting Chicken, Veal Cutlets, Salmon, Pink (can), Apples, Bananas, Lemons, Oranges, Green Beans, Cabbage, Carrots, Celery, Lettuce, Onions, Potatoes, Spinach, Sweet Potatoes, Peaches (can), Pears (can), Pineapple (can), Asparagus (can), Green Beans (can), Pork and Beans (can), Corn (can), Peas (can), Tomatoes (can), Tomato Soup (can), Peaches, Dried, Prunes, Dried, Raisins, Dried, Peas, Dried, Lima Beans, Dried, Navy Beans, Dried, Coffee, Tea, Cocoa, Chocolate, Sugar, Corn Syrup, Molasses, Strawberry Preserves]\n",
      "----------------------------------------------------------------------\n",
      "Number of variables = 79\n"
     ]
    }
   ],
   "source": [
    "# Because this function is general we could create the variables in an array, to hold\n",
    "# a large number of variables, declaring an array to hold our variables. Note that\n",
    "# item[0] holds the name of each food in the 'data' table. The variables itself will hold\n",
    "# the quantity of each item\n",
    "foods = []\n",
    "foods = [solver.NumVar(0.0, solver.infinity(), item[0]) for item in data]\n",
    "print(foods)\n",
    "\n",
    "print(\"----------------------------------------------------------------------\")\n",
    "print('Number of variables =', solver.NumVariables())"
   ]
  },
  {
   "cell_type": "markdown",
   "metadata": {},
   "source": [
    "# Constraints"
   ]
  },
  {
   "cell_type": "code",
   "execution_count": 36,
   "metadata": {},
   "outputs": [],
   "source": [
    "# The constraints are reprsented as a matrix where each variable holds\n",
    "# a coefficient in the linear combination of all constraints. This linear combination\n",
    "# must fullfill the constraint of being between two values. \n",
    "# Let's have a look at one example 0 <= 2*x + y <= 5.\n",
    "ct = solver.Constraint(0, 5, 'ct')\n",
    "ct.SetCoefficient(x, 2)\n",
    "ct.SetCoefficient(y, 1)"
   ]
  },
  {
   "cell_type": "markdown",
   "metadata": {},
   "source": [
    "Now we need to set the constraints that are proposed by the problem, these are the requiremens that the total amount of nutrients provided by all the foods be at least the minimum daily nutrient requirement for each nutrient. Now the constraints consider the amount of each nutrient provided by each food. We have to notice that is is [i+3] because the nutrient data we have to consider for our constraints start at the 4th column of the list. "
   ]
  },
  {
   "cell_type": "code",
   "execution_count": 37,
   "metadata": {},
   "outputs": [
    {
     "name": "stdout",
     "output_type": "stream",
     "text": [
      "Number of constraints = 10\n"
     ]
    }
   ],
   "source": [
    "# The constrainsts can be reprsented as arrays to make evrything easier\n",
    "# Create the constraints, one per nutrient.\n",
    "constraints = []\n",
    "for i, nutrient in enumerate(nutrientes):\n",
    "    # Append one constrint per nutrient. If you look at the nutrient table,\n",
    "    # you will see that the minimum value is stored at nurient[1] (second column)\n",
    "    constraints.append(solver.Constraint(nutrient[1], solver.infinity()))\n",
    "\n",
    "    # The coefficients in this constraint are given by the 'data' table\n",
    "    # The variable for which we are creating the coefficient is foods[j]\n",
    "    # The coefficient itself has the value of the corresponding nutrient in 'data'\n",
    "    # table, which is located at position i + 3 (where i is the nutrient number)\n",
    "    for j, item in enumerate(data):\n",
    "        constraints[i].SetCoefficient(foods[j], item[i + 3])\n",
    "\n",
    "print('Number of constraints =', solver.NumConstraints())"
   ]
  },
  {
   "cell_type": "markdown",
   "metadata": {},
   "source": [
    "# Objective + invoking the solver "
   ]
  },
  {
   "cell_type": "code",
   "execution_count": 38,
   "metadata": {},
   "outputs": [],
   "source": [
    "# Finally, we set the objective function\n",
    "# As usual, let's see in comments a simple objective function for two variables\n",
    "# Again, we specify the coefficients of each variable for the linear combination of all variables\n",
    "# Create the objective function, 3 * x + y.\n",
    "objective = solver.Objective()\n",
    "objective.SetCoefficient(x, 3)\n",
    "objective.SetCoefficient(y, 1)\n",
    "objective.SetMaximization()"
   ]
  },
  {
   "cell_type": "markdown",
   "metadata": {},
   "source": [
    "The last step is to create the objective function of the optimisation problem. The objective function will be the total cost of the food, which accounts for the sum of all variables. "
   ]
  },
  {
   "cell_type": "code",
   "execution_count": 39,
   "metadata": {},
   "outputs": [],
   "source": [
    "# Let's translate this to our problem\n",
    "# Objective function: Minimize the sum of foods cost. \n",
    "# The objective function is the sum of each variable (food quantity) multiplied \n",
    "# by its cost (cost is in column 3). The costs are the coefficients\n",
    "objective = solver.Objective()\n",
    "for f, food in enumerate(foods):\n",
    "    objective.SetCoefficient(food, 1) # 2 is column 3\n",
    "objective.SetMinimization()\n",
    "\n",
    "status = solver.Solve()"
   ]
  },
  {
   "cell_type": "code",
   "execution_count": 40,
   "metadata": {},
   "outputs": [
    {
     "name": "stdout",
     "output_type": "stream",
     "text": [
      "Optimal solution found\n"
     ]
    }
   ],
   "source": [
    "# Check that the problem has an optimal solution.\n",
    "if status != solver.OPTIMAL:\n",
    "    print('The problem does not have an optimal solution!')\n",
    "    if status == solver.FEASIBLE:\n",
    "        print('A potentially suboptimal solution was found.')\n",
    "    else:\n",
    "        print('The solver could not solve the problem.')\n",
    "        exit(1)\n",
    "else:\n",
    "    print('Optimal solution found')"
   ]
  },
  {
   "cell_type": "code",
   "execution_count": 41,
   "metadata": {},
   "outputs": [
    {
     "name": "stdout",
     "output_type": "stream",
     "text": [
      "\n",
      "Daily Foods:\n",
      "Wheat Flour (Enriched): 44.608754452836955\n",
      "Spinach: 5.444250871080141\n",
      "\n",
      "Optimal cost: $50.0530\n",
      "\n",
      "Nutrients per day:\n",
      "Calories (kcal): 2000.00 (min 2000)\n",
      "Protein (g): 63520.04 (min 70)\n",
      "Calcium (g): 89.22 (min 0.8)\n",
      "Iron (mg): 17033.50 (min 12)\n",
      "Vitamin A (KIU): 5000.00 (min 5000)\n",
      "Vitamin B1 (mg): 2502.36 (min 1.8)\n",
      "Vitamin B2 (mg): 1560.60 (min 2.7)\n",
      "Niacin (mg): 19852.12 (min 18)\n",
      "Vitamin C (mg): 14998.91 (min 75)\n"
     ]
    }
   ],
   "source": [
    "# Display the amounts to purchase of each food.\n",
    "nutrients_result = [0] * len(nutrientes)\n",
    "print('\\nDaily Foods:')\n",
    "for i, food in enumerate(foods):\n",
    "    if food.solution_value() > 0.0:\n",
    "        print('{}: {}'.format(data[i][0], food.solution_value()))\n",
    "        for j, _ in enumerate(nutrientes):\n",
    "            nutrients_result[j] += data[i][j + 3] * food.solution_value()\n",
    "\n",
    "print('\\nOptimal cost: ${:.4f}'.format(objective.Value()))\n",
    "\n",
    "print('\\nNutrients per day:')\n",
    "for i, nutrient in enumerate(nutrientes):\n",
    "    print('{}: {:.2f} (min {})'.format(nutrient[0], nutrients_result[i], nutrient[1]))"
   ]
  },
  {
   "cell_type": "markdown",
   "metadata": {},
   "source": [
    "Here we can see: \n",
    "- The list of foods that would have to be purchased for the optimum solution and the cost of each food. \n",
    "- The Optimal cost (50.0530$) which is the value of the objective function, solution to the problem\n",
    "- The total amount of nutrients gathered for the solution of the problem"
   ]
  },
  {
   "cell_type": "markdown",
   "metadata": {},
   "source": [
    "# **EXERCISE 2:Modify the program the data to consider not only minimum nutrients quantities but maximum as well.** "
   ]
  },
  {
   "cell_type": "markdown",
   "metadata": {},
   "source": [
    "## **OPTION 1:** For this option, what I have done is just changing the solvers objective from minimisation to maximisation -> we will get a not feasible solution, the solver won't be able to find the most optimum solution"
   ]
  },
  {
   "cell_type": "markdown",
   "metadata": {},
   "source": [
    "First we import the data and create the linear solver with the GLOP backend."
   ]
  },
  {
   "cell_type": "code",
   "execution_count": 42,
   "metadata": {},
   "outputs": [],
   "source": [
    "# We import the file data.py to have access to the definitions in this file\n",
    "from data import * \n",
    "\n",
    "# Create the linear solver with the GLOP backend.\n",
    "# GLOP is an open source solver which can be used freely\n",
    "solver = pywraplp.Solver.CreateSolver('GLOP')\n",
    "if not solver:\n",
    "    exit"
   ]
  },
  {
   "cell_type": "code",
   "execution_count": 43,
   "metadata": {},
   "outputs": [
    {
     "name": "stdout",
     "output_type": "stream",
     "text": [
      "[Wheat Flour (Enriched), Macaroni, Wheat Cereal (Enriched), Corn Flakes, Corn Meal, Hominy Grits, Rice, Rolled Oats, White Bread (Enriched), Whole Wheat Bread, Rye Bread, Pound Cake, Soda Crackers, Milk, Evaporated Milk (can), Butter, Oleomargarine, Eggs, Cheese (Cheddar), Cream, Peanut Butter, Mayonnaise, Crisco, Lard, Sirloin Steak, Round Steak, Rib Roast, Chuck Roast, Plate, Liver (Beef), Leg of Lamb, Lamb Chops (Rib), Pork Chops, Pork Loin Roast, Bacon, Ham, smoked, Salt Pork, Roasting Chicken, Veal Cutlets, Salmon, Pink (can), Apples, Bananas, Lemons, Oranges, Green Beans, Cabbage, Carrots, Celery, Lettuce, Onions, Potatoes, Spinach, Sweet Potatoes, Peaches (can), Pears (can), Pineapple (can), Asparagus (can), Green Beans (can), Pork and Beans (can), Corn (can), Peas (can), Tomatoes (can), Tomato Soup (can), Peaches, Dried, Prunes, Dried, Raisins, Dried, Peas, Dried, Lima Beans, Dried, Navy Beans, Dried, Coffee, Tea, Cocoa, Chocolate, Sugar, Corn Syrup, Molasses, Strawberry Preserves]\n",
      "----------------------------------------------------------------------\n",
      "Number of variables = 77\n"
     ]
    }
   ],
   "source": [
    "foods = [solver.NumVar(0.0, solver.infinity(), item[0]) for item in data]\n",
    "print(foods)\n",
    "\n",
    "\n",
    "print(\"----------------------------------------------------------------------\")\n",
    "print('Number of variables =', solver.NumVariables())\n"
   ]
  },
  {
   "cell_type": "markdown",
   "metadata": {},
   "source": [
    "Creating the constraints"
   ]
  },
  {
   "cell_type": "code",
   "execution_count": 44,
   "metadata": {},
   "outputs": [
    {
     "name": "stdout",
     "output_type": "stream",
     "text": [
      "Number of constraints = 9\n"
     ]
    }
   ],
   "source": [
    "# The constrainsts can be reprsented as arrays to make evrything easier\n",
    "# Create the constraints, one per nutrient.\n",
    "constraints = []\n",
    "for i, nutrient in enumerate(nutrientes):\n",
    "    # Append one constrint per nutrient. If you look at the nutrient table,\n",
    "    # you will see that the minimum value is stored at nurient[1] (second column)\n",
    "    constraints.append(solver.Constraint(nutrient[1], solver.infinity()))\n",
    "\n",
    "    # The coefficients in this constraint are given by the 'data' table\n",
    "    # The variable for which we are creating the coefficient is foods[j]\n",
    "    # The coefficient itself has the value of the corresponding nutrient in 'data'\n",
    "    # table, which is located at position i + 3 (where i is the nutrient number)\n",
    "    for j, item in enumerate(data):\n",
    "        constraints[i].SetCoefficient(foods[j], item[i + 3])\n",
    "\n",
    "print('Number of constraints =', solver.NumConstraints())"
   ]
  },
  {
   "cell_type": "markdown",
   "metadata": {},
   "source": [
    "The last step is to create the objective function of the optimisation problem. The objective function will be the total cost of the food, which accounts for the sum of all variables. \n",
    "### In the last exercise, the objective function was set to minimisation, now we set it for maximisation"
   ]
  },
  {
   "cell_type": "code",
   "execution_count": 45,
   "metadata": {},
   "outputs": [],
   "source": [
    "# Let's translate this to our problem\n",
    "# Objective function: Minimize the sum of foods cost. \n",
    "# The objective function is the sum of each variable (food quantity) multiplied \n",
    "# by its cost (cost is in column 3). The costs are the coefficients\n",
    "objective = solver.Objective()\n",
    "for f, food in enumerate(foods):\n",
    "    objective.SetCoefficient(food, 1) # 2 is column 3\n",
    "objective.SetMaximization()\n",
    "\n",
    "status = solver.Solve()"
   ]
  },
  {
   "cell_type": "code",
   "execution_count": 46,
   "metadata": {},
   "outputs": [
    {
     "name": "stdout",
     "output_type": "stream",
     "text": [
      "The problem does not have an optimal solution!\n",
      "The solver could not solve the problem.\n"
     ]
    }
   ],
   "source": [
    "# Check that the problem has an optimal solution.\n",
    "if status != solver.OPTIMAL:\n",
    "    print('The problem does not have an optimal solution!')\n",
    "    if status == solver.FEASIBLE:\n",
    "        print('A potentially suboptimal solution was found.')\n",
    "    else:\n",
    "        print('The solver could not solve the problem.')\n",
    "        exit(1)\n",
    "else:\n",
    "    print('Optimal solution found')"
   ]
  },
  {
   "cell_type": "markdown",
   "metadata": {},
   "source": [
    "### As we expected for this part of the problem, the problem does not have a feasible solution"
   ]
  },
  {
   "cell_type": "markdown",
   "metadata": {},
   "source": [
    "## **OPTION 2:** adding a new value for each of the nutrients, this value with be the upper bound of the constraints. As a consequence, we will create constraints that are type <= >=. "
   ]
  },
  {
   "cell_type": "code",
   "execution_count": 47,
   "metadata": {},
   "outputs": [],
   "source": [
    "# We import the file data.py to have access to the definitions in this file\n",
    "from data import * \n",
    "\n",
    "# Create the linear solver with the GLOP backend.\n",
    "# GLOP is an open source solver which can be used freely\n",
    "solver = pywraplp.Solver.CreateSolver('GLOP')\n",
    "if not solver:\n",
    "    exit"
   ]
  },
  {
   "cell_type": "code",
   "execution_count": 48,
   "metadata": {},
   "outputs": [
    {
     "name": "stdout",
     "output_type": "stream",
     "text": [
      "[Wheat Flour (Enriched), Macaroni, Wheat Cereal (Enriched), Corn Flakes, Corn Meal, Hominy Grits, Rice, Rolled Oats, White Bread (Enriched), Whole Wheat Bread, Rye Bread, Pound Cake, Soda Crackers, Milk, Evaporated Milk (can), Butter, Oleomargarine, Eggs, Cheese (Cheddar), Cream, Peanut Butter, Mayonnaise, Crisco, Lard, Sirloin Steak, Round Steak, Rib Roast, Chuck Roast, Plate, Liver (Beef), Leg of Lamb, Lamb Chops (Rib), Pork Chops, Pork Loin Roast, Bacon, Ham, smoked, Salt Pork, Roasting Chicken, Veal Cutlets, Salmon, Pink (can), Apples, Bananas, Lemons, Oranges, Green Beans, Cabbage, Carrots, Celery, Lettuce, Onions, Potatoes, Spinach, Sweet Potatoes, Peaches (can), Pears (can), Pineapple (can), Asparagus (can), Green Beans (can), Pork and Beans (can), Corn (can), Peas (can), Tomatoes (can), Tomato Soup (can), Peaches, Dried, Prunes, Dried, Raisins, Dried, Peas, Dried, Lima Beans, Dried, Navy Beans, Dried, Coffee, Tea, Cocoa, Chocolate, Sugar, Corn Syrup, Molasses, Strawberry Preserves]\n",
      "----------------------------------------------------------------------\n",
      "Number of variables = 77\n"
     ]
    }
   ],
   "source": [
    "foods = [solver.NumVar(0.0, solver.infinity(), item[0]) for item in data]\n",
    "print(foods)\n",
    "\n",
    "\n",
    "print(\"----------------------------------------------------------------------\")\n",
    "print('Number of variables =', solver.NumVariables())"
   ]
  },
  {
   "cell_type": "markdown",
   "metadata": {},
   "source": [
    "Now, to set the constraints, notice how I plug in the new value I have added for the data set: **nutrients[2]**\n",
    "\n",
    "This is what I have changed in the dataset: \n",
    "\n",
    "nutrients = [\n",
    "\n",
    "    ['Calories (kcal)', 2000, 5000],\n",
    "\n",
    "    ['Protein (g)', 70, 170],\n",
    "\n",
    "    ['Calcium (g)', 0.8, 2.7],\n",
    "\n",
    "    ['Iron (mg)', 12, 26],\n",
    "\n",
    "    ['Vitamin A (KIU)', 5000, 9000],\n",
    "\n",
    "    ['Vitamin B1 (mg)', 1.8, 3.4],\n",
    "\n",
    "    ['Vitamin B2 (mg)', 2.7, 5.8],\n",
    "\n",
    "    ['Niacin (mg)', 18, 32],\n",
    "\n",
    "    ['Vitamin C (mg)', 75, 210],"
   ]
  },
  {
   "cell_type": "code",
   "execution_count": 49,
   "metadata": {},
   "outputs": [
    {
     "name": "stdout",
     "output_type": "stream",
     "text": [
      "Number of constraints = 9\n"
     ]
    }
   ],
   "source": [
    "# The constrainsts can be reprsented as arrays to make evrything easier\n",
    "# Create the constraints, one per nutrient.\n",
    "nutrients = [\n",
    "    ['Calories (kcal)', 2000, 5000],\n",
    "    ['Protein (g)', 70, 170],\n",
    "    ['Calcium (g)', 0.8, 2.7],\n",
    "    ['Iron (mg)', 12, 26],\n",
    "    ['Vitamin A (KIU)', 5000, 9000],\n",
    "    ['Vitamin B1 (mg)', 1.8, 3.4],\n",
    "    ['Vitamin B2 (mg)', 2.7, 5.8],\n",
    "    ['Niacin (mg)', 18, 32],\n",
    "    ['Vitamin C (mg)', 75, 210],\n",
    "]\n",
    "constraints = []\n",
    "for i, nutrient in enumerate(nutrients):\n",
    "    # Append one constrint per nutrient. If you look at the nutrient table,\n",
    "    # you will see that the minimum value is stored at nurient[1] and maximum value at nutrient[2] (second and third column)\n",
    "    constraints.append(solver.Constraint(nutrient[1], nutrient[2], 'ct'))\n",
    "\n",
    "    # The coefficients in this constraint are given by the 'data' table\n",
    "    # The variable for which we are creating the coefficient is foods[j]\n",
    "    # The coefficient itself has the value of the corresponding nutrient in 'data'\n",
    "    # table, which is located at position i + 3 (where i is the nutrient number)\n",
    "    for j, item in enumerate(data):\n",
    "        constraints[i].SetCoefficient(foods[j], item[i + 3])\n",
    "\n",
    "print('Number of constraints =', solver.NumConstraints())"
   ]
  },
  {
   "cell_type": "code",
   "execution_count": 50,
   "metadata": {},
   "outputs": [],
   "source": [
    "# Let's translate this to our problem\n",
    "# Objective function: Minimize the sum of foods cost. \n",
    "# The objective function is the sum of each variable (food quantity) multiplied \n",
    "# by its cost (cost is in column 3). The costs are the coefficients\n",
    "objective = solver.Objective()\n",
    "for f, food in enumerate(foods):\n",
    "    objective.SetCoefficient(food, 1) # 2 is column 3\n",
    "objective.SetMinimization()\n",
    "\n",
    "status = solver.Solve()"
   ]
  },
  {
   "cell_type": "code",
   "execution_count": 51,
   "metadata": {},
   "outputs": [
    {
     "name": "stdout",
     "output_type": "stream",
     "text": [
      "The problem does not have an optimal solution!\n",
      "The solver could not solve the problem.\n"
     ]
    }
   ],
   "source": [
    "# Check that the problem has an optimal solution.\n",
    "if status != solver.OPTIMAL:\n",
    "    print('The problem does not have an optimal solution!')\n",
    "    if status == solver.FEASIBLE:\n",
    "        print('A potentially suboptimal solution was found.')\n",
    "    else:\n",
    "        print('The solver could not solve the problem.')\n",
    "        exit(1)\n",
    "else:\n",
    "    print('Optimal solution found')"
   ]
  },
  {
   "cell_type": "markdown",
   "metadata": {},
   "source": [
    "### As we can see, setting both a maximum and minimum threshold for the nutrients the answer does not give us a feasible anwer. The reason is, as we could see in exercise 1, for example, the total amount of proteins that the foods provided was 63520.04 and now I have set a maximum value for the proteins to be 170, much lower than that, this is one of the constraints that doesn't allow the solver to find a feassible solution, because it is not possible."
   ]
  }
 ],
 "metadata": {
  "kernelspec": {
   "display_name": "Python 3.9.12 ('base')",
   "language": "python",
   "name": "python3"
  },
  "language_info": {
   "codemirror_mode": {
    "name": "ipython",
    "version": 3
   },
   "file_extension": ".py",
   "mimetype": "text/x-python",
   "name": "python",
   "nbconvert_exporter": "python",
   "pygments_lexer": "ipython3",
   "version": "3.9.12"
  },
  "orig_nbformat": 4,
  "vscode": {
   "interpreter": {
    "hash": "dc3f44e010abd26ab046284901ce9509711ac3cc1e8fdd0965c6a2a3e20ab15a"
   }
  }
 },
 "nbformat": 4,
 "nbformat_minor": 2
}
